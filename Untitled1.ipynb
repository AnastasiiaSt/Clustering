{
 "cells": [
  {
   "cell_type": "code",
   "execution_count": 1,
   "id": "588d008c",
   "metadata": {},
   "outputs": [
    {
     "ename": "NameError",
     "evalue": "name 'time' is not defined",
     "output_type": "error",
     "traceback": [
      "\u001b[1;31m---------------------------------------------------------------------------\u001b[0m",
      "\u001b[1;31mNameError\u001b[0m                                 Traceback (most recent call last)",
      "\u001b[1;32m~\\AppData\\Local\\Temp/ipykernel_23092/701697532.py\u001b[0m in \u001b[0;36m<module>\u001b[1;34m\u001b[0m\n\u001b[1;32m----> 1\u001b[1;33m \u001b[0mstart\u001b[0m \u001b[1;33m=\u001b[0m \u001b[0mtime\u001b[0m\u001b[1;33m.\u001b[0m\u001b[0mtime\u001b[0m\u001b[1;33m(\u001b[0m\u001b[1;33m)\u001b[0m\u001b[1;33m\u001b[0m\u001b[1;33m\u001b[0m\u001b[0m\n\u001b[0m\u001b[0;32m      2\u001b[0m \u001b[0mX_embedded\u001b[0m \u001b[1;33m=\u001b[0m \u001b[0mTSNE\u001b[0m\u001b[1;33m(\u001b[0m\u001b[0mn_components\u001b[0m \u001b[1;33m=\u001b[0m \u001b[1;36m2\u001b[0m\u001b[1;33m)\u001b[0m\u001b[1;33m.\u001b[0m\u001b[0mfit_transform\u001b[0m\u001b[1;33m(\u001b[0m\u001b[0mX_train\u001b[0m\u001b[1;33m)\u001b[0m\u001b[1;33m\u001b[0m\u001b[1;33m\u001b[0m\u001b[0m\n\u001b[0;32m      3\u001b[0m \u001b[0mhierar_model\u001b[0m \u001b[1;33m=\u001b[0m \u001b[0mAgglomerativeClustering\u001b[0m\u001b[1;33m(\u001b[0m\u001b[0mn_clusters\u001b[0m \u001b[1;33m=\u001b[0m \u001b[1;36m10\u001b[0m\u001b[1;33m)\u001b[0m\u001b[1;33m\u001b[0m\u001b[1;33m\u001b[0m\u001b[0m\n\u001b[0;32m      4\u001b[0m \u001b[0mhierar_model\u001b[0m\u001b[1;33m.\u001b[0m\u001b[0mfit\u001b[0m\u001b[1;33m(\u001b[0m\u001b[0mX_embedded\u001b[0m\u001b[1;33m)\u001b[0m\u001b[1;33m\u001b[0m\u001b[1;33m\u001b[0m\u001b[0m\n\u001b[0;32m      5\u001b[0m \u001b[0mstop\u001b[0m \u001b[1;33m=\u001b[0m \u001b[0mtime\u001b[0m\u001b[1;33m.\u001b[0m\u001b[0mtime\u001b[0m\u001b[1;33m(\u001b[0m\u001b[1;33m)\u001b[0m\u001b[1;33m\u001b[0m\u001b[1;33m\u001b[0m\u001b[0m\n",
      "\u001b[1;31mNameError\u001b[0m: name 'time' is not defined"
     ]
    }
   ],
   "source": [
    "start = time.time()\n",
    "X_embedded = TSNE(n_components = 2).fit_transform(X_train)\n",
    "hierar_model = AgglomerativeClustering(n_clusters = 10)\n",
    "hierar_model.fit(X_embedded)\n",
    "stop = time.time()\n",
    "\n",
    "s_score = silhouette_score(X_train, train_pred)\n",
    "v_score = v_measure_score(y_train, train_pred)\n",
    "\n",
    "print('V measure score is {} and silhouette score is {} using Hierarchical clustering on reduced training data.'\\\n",
    "      .format(round(v_score, 3), round(s_score, 3)))"
   ]
  },
  {
   "cell_type": "code",
   "execution_count": null,
   "id": "e7433f51",
   "metadata": {},
   "outputs": [],
   "source": [
    "add = pd.DataFrame(data = {'Hierarchical clustering with tSNE': ['tSNE', round(s_score, 3), round(v_score, 3),\n",
    "            round(stop - start)]}, index = ['Dimensionality Reduction', 'Silhouette score', 'V measure score', 'Training time'])\n",
    "summary = summary.join(add)"
   ]
  },
  {
   "cell_type": "code",
   "execution_count": null,
   "id": "d6010d37",
   "metadata": {},
   "outputs": [],
   "source": [
    "plt.figure(figsize = (16, 8))\n",
    "plt.title('Dimensionality reduction using tSNE')\n",
    "plt.scatter(X_embedded[:, 0], X_embedded[:, 1], c = y_train, cmap = 'twilight_shifted', edgecolor = 'black')\n",
    "plt.show()"
   ]
  },
  {
   "cell_type": "code",
   "execution_count": null,
   "id": "e0775446",
   "metadata": {},
   "outputs": [],
   "source": [
    "# Evaluate the best model on test set\n",
    "\n",
    "pca.fit(X_test)\n",
    "X_test_reduced = np.dot(X_test, pca.components_.T)\n",
    "test_pred = kmeans_randomized.predict(X_test_reduced)\n",
    "v_score = v_measure_score(y_test, test_pred)\n",
    "\n",
    "print('V measure score on test data is {}.'.format(round(v_score, 3)))"
   ]
  }
 ],
 "metadata": {
  "kernelspec": {
   "display_name": "Python 3 (ipykernel)",
   "language": "python",
   "name": "python3"
  },
  "language_info": {
   "codemirror_mode": {
    "name": "ipython",
    "version": 3
   },
   "file_extension": ".py",
   "mimetype": "text/x-python",
   "name": "python",
   "nbconvert_exporter": "python",
   "pygments_lexer": "ipython3",
   "version": "3.9.7"
  }
 },
 "nbformat": 4,
 "nbformat_minor": 5
}
